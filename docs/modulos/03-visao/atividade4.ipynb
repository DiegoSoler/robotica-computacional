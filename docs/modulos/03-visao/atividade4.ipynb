{
 "cells": [
  {
   "cell_type": "markdown",
   "metadata": {},
   "source": [
    "# Pose e Transformação Coordenada Usando Marcadores Aruco\n",
    "\n",
    "Nesta atividade, vamos aprender sobre o conceito de pose e transformação coordenada. Vamos também aprender como usar marcadores Aruco para estimar a distância e orientação de um objeto em relação a câmera. Depois, vamos usar essa informação para transformar a coordenada do objeto para a coordenada da câmera.\n",
    "\n",
    "## O que é Pose?\n",
    "Pose é a posição e orientação de um objeto em relação a um sistema de coordenada. Sistema de coordenada é um conjunto de eixos que definem a posição e orientação de um objeto.\n",
    "\n",
    "Na imagem abaixo, temos dois sistemas de coordenadas diferentes, um para a câmera e outro global (World). Cada um desses sistemas de coordenadas tem sua origem (ponto de referência) e seus eixos.  \n",
    "\n",
    "![Pose](img/pose.png)\n",
    "\n",
    "Em geral, quando utilizamos visão computacional, o sistema de coordenadas da câmera é o que chamamos de *camera frame* e o sistema de coordenadas global é o que chamamos de *world frame*.\n",
    "\n",
    "## Componentes da Pose\n",
    "### Posição\n",
    "A posição de um objeto é geralmente representada por um vetor t⃗=[tx,ty,tz]t\n",
    "=[tx​,ty​,tz​] que indica o deslocamento do objeto em relação a um sistema de coordenadas em cada um dos eixos.\n",
    "\n",
    "### Orientação - Euler Angles\n",
    "A orientação de um objeto pode ser descrita através de ângulos de Euler. Estes são três ângulos que especificam a rotação do objeto em torno dos eixos XX, YY, e ZZ. Geralmente, rotações nos eiros XX, YY, e ZZ são chamadas de roll, pitch, e yaw, respectivamente, como mostrado na imagem abaixo.\n",
    "\n",
    "![Euler Angles](img/euler.jpg)\n",
    "\n",
    "Este método é intuitivo, mas pode sofrer de \"gimbal lock\". Gimbal lock é um problema que ocorre quando dois dos eixos de rotação estão alinhados. Neste caso, a rotação em torno de um eixo é perdida, gerando ambiguidade na orientação do objeto.\n",
    "\n",
    "### Orientação - Quaternion\n",
    "\n",
    "Uma alternativa aos ângulos de Euler é o uso de quaternions. Um quaternion é uma estrutura matemática que evita o problema de gimbal lock e é computacionalmente mais eficiente para algumas operações. Ele é representado como q=w+xi+yj+zkq=w+xi+yj+zk.\n",
    "\n",
    "Assista o vídeo abaixo para entender como funciona a representação de orientação usando quaternions.\n",
    "\n",
    "[Quaternions and 3d rotation, explained interactively](https://www.youtube.com/watch?v=zjMuIxRvygQ&t=233s)\n"
   ]
  },
  {
   "cell_type": "markdown",
   "metadata": {},
   "source": [
    "## Transformação Coordenada\n",
    "### Transformação Homogênea\n",
    "### Transformação Homogênea - Rotação\n",
    "### Transformação Homogênea - Translação\n",
    "### Transformação Homogênea - Composição\n",
    "### Transformação Homogênea - Inversa\n",
    "### Transformação Homogênea - Transformação de um Ponto\n",
    "## Marcadores Aruco\n",
    "### Transformação de Coordenada usando Marcadores Aruco\n",
    "## Exercício"
   ]
  },
  {
   "cell_type": "code",
   "execution_count": null,
   "metadata": {
    "vscode": {
     "languageId": "plaintext"
    }
   },
   "outputs": [],
   "source": []
  }
 ],
 "metadata": {
  "kernelspec": {
   "display_name": "Python 3",
   "language": "python",
   "name": "python3"
  },
  "language_info": {
   "codemirror_mode": {
    "name": "ipython",
    "version": 3
   },
   "file_extension": ".py",
   "mimetype": "text/x-python",
   "name": "python",
   "nbconvert_exporter": "python",
   "pygments_lexer": "ipython3",
   "version": "3.8.12"
  }
 },
 "nbformat": 4,
 "nbformat_minor": 4
}
